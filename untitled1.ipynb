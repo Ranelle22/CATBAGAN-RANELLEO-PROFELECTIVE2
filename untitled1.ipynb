{
  "nbformat": 4,
  "nbformat_minor": 0,
  "metadata": {
    "colab": {
      "provenance": [],
      "authorship_tag": "ABX9TyOzDnWOhrpdtFfxUW6Fl9SL",
      "include_colab_link": true
    },
    "kernelspec": {
      "name": "python3",
      "display_name": "Python 3"
    },
    "language_info": {
      "name": "python"
    }
  },
  "cells": [
    {
      "cell_type": "markdown",
      "metadata": {
        "id": "view-in-github",
        "colab_type": "text"
      },
      "source": [
        "<a href=\"https://colab.research.google.com/github/Ranelle22/CATBAGAN-RANELLEO-PROFELECTIVE2/blob/main/untitled1.ipynb\" target=\"_parent\"><img src=\"https://colab.research.google.com/assets/colab-badge.svg\" alt=\"Open In Colab\"/></a>"
      ]
    },
    {
      "cell_type": "code",
      "execution_count": null,
      "metadata": {
        "colab": {
          "base_uri": "https://localhost:8080/",
          "height": 905
        },
        "id": "gCB2xEqkPH4X",
        "outputId": "ac41cd4f-ab45-4e3b-b062-8ff5f34b08e3"
      },
      "outputs": [
        {
          "output_type": "error",
          "ename": "SyntaxError",
          "evalue": "ignored",
          "traceback": [
            "\u001b[0;36m  File \u001b[0;32m\"<ipython-input-1-c3aeadeec3cc>\"\u001b[0;36m, line \u001b[0;32m1\u001b[0m\n\u001b[0;31m    GENDER,AGE,Do you invest in Investment Avenues?,What do you think are the best options for investing your money? (Rank in order of preference) [Mutual Funds],What do you think are the best options for investing your money? (Rank in order of preference) [Equity Market],What do you think are the best options for investing your money? (Rank in order of preference) [Debentures],What do you think are the best options for investing your money? (Rank in order of preference) [Government Bonds],What do you think are the best options for investing your money? (Rank in order of preference) [Fixed Deposits],What do you think are the best options for investing your money? (Rank in order of preference) [Public Provident Fund],What do you think are the best options for investing your money? (Rank in order of preference) [Gold],Do you invest in Stock Market?,What are the factors considered by you while investing in any instrument?,What is your investment objective?,What is your purpose behind investment?,How long do you prefer to keep your money in any investment instrument?,How often do you monitor your investment?,How much return do you expect from any investment instrument?,Which investment avenue do you mostly invest in?,What are your savings objectives?,Reasons for investing in Equity Market,Reasons for investing in Mutual Funds,Reasons for investing in Government Bonds,Reasons for investing in Fixed Deposits ,Your sources of information for investments is\u001b[0m\n\u001b[0m                  ^\u001b[0m\n\u001b[0;31mSyntaxError\u001b[0m\u001b[0;31m:\u001b[0m invalid syntax\n"
          ]
        }
      ],
      "source": [
        "GENDER,AGE,Do you invest in Investment Avenues?,What do you think are the best options for investing your money? (Rank in order of preference) [Mutual Funds],What do you think are the best options for investing your money? (Rank in order of preference) [Equity Market],What do you think are the best options for investing your money? (Rank in order of preference) [Debentures],What do you think are the best options for investing your money? (Rank in order of preference) [Government Bonds],What do you think are the best options for investing your money? (Rank in order of preference) [Fixed Deposits],What do you think are the best options for investing your money? (Rank in order of preference) [Public Provident Fund],What do you think are the best options for investing your money? (Rank in order of preference) [Gold],Do you invest in Stock Market?,What are the factors considered by you while investing in any instrument?,What is your investment objective?,What is your purpose behind investment?,How long do you prefer to keep your money in any investment instrument?,How often do you monitor your investment?,How much return do you expect from any investment instrument?,Which investment avenue do you mostly invest in?,What are your savings objectives?,Reasons for investing in Equity Market,Reasons for investing in Mutual Funds,Reasons for investing in Government Bonds,Reasons for investing in Fixed Deposits ,Your sources of information for investments is\n",
        "Female,34,Yes,1,2,5,3,7,6,4,Yes,Returns,Capital Appreciation,Wealth Creation,1-3 years,Monthly,20%-30%,Mutual Fund,Retirement Plan,Capital Appreciation,Better Returns,Safe Investment,Fixed Returns,Newspapers and Magazines\n",
        "Female,23,Yes,4,3,2,1,5,6,7,No,Locking Period,Capital Appreciation,Wealth Creation,More than 5 years,Weekly,20%-30%,Mutual Fund,Health Care,Dividend,Better Returns,Safe Investment,High Interest Rates,Financial Consultants\n",
        "Male,30,Yes,3,6,4,2,5,1,7,Yes,Returns,Capital Appreciation,Wealth Creation,3-5 years,Daily,20%-30%,Equity,Retirement Plan,Capital Appreciation,Tax Benefits,Assured Returns,Fixed Returns,Television\n",
        "Male,22,Yes,2,1,3,7,6,4,5,Yes,Returns,Income,Wealth Creation,Less than 1 year,Daily,10%-20%,Equity,Retirement Plan,Dividend,Fund Diversification,Tax Incentives,High Interest Rates,Internet\n",
        "Female,24,No,2,1,3,6,4,5,7,No,Returns,Income,Wealth Creation,Less than 1 year,Daily,20%-30%,Equity,Retirement Plan,Capital Appreciation,Better Returns,Safe Investment,Risk Free,Internet\n",
        "Female,24,No,7,5,4,6,3,1,2,No,Risk,Capital Appreciation,Wealth Creation,1-3 years,Daily,30%-40%,Mutual Fund,Retirement Plan,Liquidity,Fund Diversification,Safe Investment,Risk Free,Internet\n",
        "Female,27,Yes,3,6,4,2,5,1,7,Yes,Returns,Capital Appreciation,Wealth Creation,3-5 years,Monthly,20%-30%,Equity,Retirement Plan,Capital Appreciation,Better Returns,Assured Returns,High Interest Rates,Financial Consultants\n",
        "Male,21,Yes,2,3,7,4,6,1,5,Yes,Risk,Capital Appreciation,Wealth Creation,3-5 years,Monthly,20%-30%,Mutual Fund,Retirement Plan,Capital Appreciation,Better Returns,Assured Returns,Risk Free,Newspapers and Magazines\n",
        "Male,35,Yes,2,4,7,5,3,1,6,Yes,Returns,Growth,Savings for Future,1-3 years,Weekly,20%-30%,Equity,Retirement Plan,Capital Appreciation,Fund Diversification,Safe Investment,Fixed Returns,Television\n",
        "Male,31,Yes,1,3,7,4,5,2,6,Yes,Returns,Capital Appreciation,Wealth Creation,3-5 years,Monthly,30%-40%,Fixed Deposits,Retirement Plan,Capital Appreciation,Fund Diversification,Assured Returns,Fixed Returns,Newspapers and Magazines\n",
        "Female,35,Yes,2,4,7,5,3,1,6,Yes,Risk,Growth,Savings for Future,3-5 years,Monthly,20%-30%,Mutual Fund,Retirement Plan,Capital Appreciation,Better Returns,Assured Returns,Risk Free,Financial Consultants\n",
        "Male,29,Yes,2,5,7,6,3,1,4,Yes,Risk,Capital Appreciation,Wealth Creation,1-3 years,Monthly,20%-30%,Mutual Fund,Retirement Plan,Capital Appreciation,Fund Diversification,Assured Returns,Fixed Returns,Financial Consultants\n",
        "Female,21,No,1,2,3,4,5,6,7,No,Returns,Capital Appreciation,Savings for Future,1-3 years,Weekly,20%-30%,Mutual Fund,Education,Dividend,Better Returns,Safe Investment,Risk Free,Internet\n",
        "Female,28,Yes,2,3,7,4,5,1,6,Yes,Returns,Capital Appreciation,Wealth Creation,1-3 years,Monthly,20%-30%,Mutual Fund,Retirement Plan,Capital Appreciation,Fund Diversification,Assured Returns,Risk Free,Newspapers and Magazines\n",
        "Female,25,Yes,2,3,7,5,4,1,6,Yes,Returns,Capital Appreciation,Wealth Creation,1-3 years,Monthly,20%-30%,Fixed Deposits,Health Care,Dividend,Better Returns,Assured Returns,Risk Free,Financial Consultants\n",
        "Male,27,Yes,2,3,7,5,4,1,6,Yes,Returns,Capital Appreciation,Wealth Creation,1-3 years,Monthly,20%-30%,Mutual Fund,Health Care,Capital Appreciation,Fund Diversification,Assured Returns,Risk Free,Newspapers and Magazines\n",
        "Female,28,Yes,3,2,7,5,4,1,6,Yes,Risk,Growth,Wealth Creation,1-3 years,Monthly,20%-30%,Fixed Deposits,Health Care,Capital Appreciation,Fund Diversification,Assured Returns,Risk Free,Television\n",
        "Male,27,Yes,3,2,7,4,5,1,6,Yes,Returns,Capital Appreciation,Wealth Creation,1-3 years,Monthly,20%-30%,Mutual Fund,Retirement Plan,Capital Appreciation,Better Returns,Assured Returns,Risk Free,Financial Consultants\n",
        "Male,29,Yes,3,2,7,4,5,1,6,Yes,Risk,Capital Appreciation,Wealth Creation,1-3 years,Monthly,20%-30%,Mutual Fund,Retirement Plan,Capital Appreciation,Better Returns,Assured Returns,Risk Free,Newspapers and Magazines\n",
        "Male,26,Yes,3,4,6,5,1,2,7,Yes,Risk,Capital Appreciation,Wealth Creation,3-5 years,Monthly,20%-30%,Fixed Deposits,Health Care,Capital Appreciation,Fund Diversification,Assured Returns,Risk Free,Newspapers and Magazines\n",
        "Male,29,Yes,2,4,7,5,3,1,6,Yes,Returns,Growth,Wealth Creation,3-5 years,Weekly,20%-30%,Mutual Fund,Retirement Plan,Capital Appreciation,Better Returns,Assured Returns,Fixed Returns,Financial Consultants\n",
        "Female,24,Yes,2,4,5,6,3,1,7,Yes,Risk,Capital Appreciation,Wealth Creation,3-5 years,Monthly,20%-30%,Equity,Health Care,Capital Appreciation,Better Returns,Assured Returns,Risk Free,Newspapers and Magazines\n",
        "Male,27,Yes,3,4,6,5,2,1,7,Yes,Returns,Capital Appreciation,Wealth Creation,3-5 years,Monthly,20%-30%,Mutual Fund,Retirement Plan,Capital Appreciation,Better Returns,Assured Returns,Risk Free,Financial Consultants\n",
        "Male,25,Yes,2,4,6,5,3,1,7,Yes,Risk,Growth,Savings for Future,3-5 years,Weekly,20%-30%,Public Provident Fund,Health Care,Liquidity,Better Returns,Assured Returns,Risk Free,Financial Consultants\n",
        "Female,26,Yes,2,3,7,5,4,1,6,Yes,Returns,Capital Appreciation,Wealth Creation,3-5 years,Monthly,30%-40%,Public Provident Fund,Retirement Plan,Capital Appreciation,Better Returns,Assured Returns,Risk Free,Newspapers and Magazines\n",
        "Female,32,Yes,3,4,7,5,1,2,6,Yes,Risk,Growth,Wealth Creation,3-5 years,Monthly,20%-30%,Mutual Fund,Retirement Plan,Capital Appreciation,Better Returns,Assured Returns,Fixed Returns,Financial Consultants\n",
        "Male,26,Yes,3,4,6,5,1,2,7,Yes,Returns,Capital Appreciation,Wealth Creation,3-5 years,Monthly,20%-30%,Mutual Fund,Retirement Plan,Dividend,Fund Diversification,Assured Returns,Fixed Returns,Financial Consultants\n",
        "Male,31,Yes,2,3,7,6,4,1,5,Yes,Risk,Growth,Savings for Future,1-3 years,Monthly,20%-30%,Fixed Deposits,Health Care,Capital Appreciation,Fund Diversification,Safe Investment,Fixed Returns,Television\n",
        "Male,29,Yes,2,3,6,5,1,4,7,Yes,Returns,Capital Appreciation,Wealth Creation,1-3 years,Monthly,20%-30%,Equity,Retirement Plan,Capital Appreciation,Better Returns,Assured Returns,Risk Free,Television\n",
        "Female,34,Yes,5,4,3,2,7,1,6,Yes,Returns,Income,Returns,3-5 years,Monthly,10%-20%,Mutual Fund,Retirement Plan,Capital Appreciation,Tax Benefits,Safe Investment,Fixed Returns,Newspapers and Magazines\n",
        "Male,27,Yes,4,5,1,2,7,3,6,No,Returns,Growth,Wealth Creation,1-3 years,Monthly,10%-20%,Mutual Fund,Education,Capital Appreciation,Tax Benefits,Safe Investment,Fixed Returns,Television\n",
        "Female,31,Yes,2,4,7,6,3,1,5,Yes,Returns,Capital Appreciation,Wealth Creation,3-5 years,Monthly,20%-30%,Fixed Deposits,Retirement Plan,Capital Appreciation,Better Returns,Assured Returns,Fixed Returns,Financial Consultants\n",
        "Male,27,Yes,2,4,7,5,1,3,6,Yes,Returns,Capital Appreciation,Wealth Creation,3-5 years,Monthly,30%-40%,Equity,Health Care,Capital Appreciation,Fund Diversification,Assured Returns,Fixed Returns,Newspapers and Magazines\n",
        "Male,26,Yes,2,3,6,4,1,5,7,Yes,Returns,Capital Appreciation,Returns,1-3 years,Monthly,20%-30%,Fixed Deposits,Education,Dividend,Better Returns,Safe Investment,Risk Free,Newspapers and Magazines\n",
        "Male,27,Yes,2,3,6,5,4,1,7,Yes,Returns,Capital Appreciation,Wealth Creation,1-3 years,Weekly,20%-30%,Mutual Fund,Health Care,Capital Appreciation,Better Returns,Safe Investment,Fixed Returns,Financial Consultants\n",
        "Male,30,Yes,1,4,6,5,3,2,7,Yes,Risk,Growth,Wealth Creation,3-5 years,Monthly,20%-30%,Fixed Deposits,Health Care,Capital Appreciation,Better Returns,Assured Returns,Fixed Returns,Financial Consultants\n",
        "Male,30,Yes,2,4,7,5,1,3,6,Yes,Returns,Capital Appreciation,Wealth Creation,1-3 years,Monthly,20%-30%,Equity,Retirement Plan,Capital Appreciation,Better Returns,Assured Returns,Risk Free,Newspapers and Magazines\n",
        "Male,25,Yes,5,4,7,6,1,2,3,Yes,Risk,Growth,Savings for Future,3-5 years,Monthly,30%-40%,Public Provident Fund,Health Care,Capital Appreciation,Better Returns,Safe Investment,Fixed Returns,Financial Consultants\n",
        "Male,31,Yes,2,4,7,5,3,1,6,Yes,Risk,Growth,Wealth Creation,1-3 years,Weekly,20%-30%,Equity,Health Care,Dividend,Fund Diversification,Assured Returns,Fixed Returns,Newspapers and Magazines\n",
        "Male,29,Yes,4,3,5,7,2,1,6,Yes,Returns,Capital Appreciation,Wealth Creation,3-5 years,Monthly,20%-30%,Fixed Deposits,Retirement Plan,Dividend,Better Returns,Safe Investment,Fixed Returns,Financial Consultants"
      ]
    }
  ]
}